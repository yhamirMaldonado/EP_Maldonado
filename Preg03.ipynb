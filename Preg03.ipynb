{
 "cells": [
  {
   "cell_type": "code",
   "execution_count": 1,
   "id": "2bf2518a",
   "metadata": {},
   "outputs": [
    {
     "name": "stdout",
     "output_type": "stream",
     "text": [
      "Ingrese el tipo de bus (1, 2 o 3): 1\n",
      "Ingrese la distancia en kilómetros: 24\n",
      "Ingrese la cantidad de personas: 15\n",
      "Costo del pasaje por persona: 48.0\n",
      "Costo total del viaje: 720.0\n"
     ]
    }
   ],
   "source": [
    "def calcular_costo_viaje(tipo_bus, distancia, cantidad_personas):\n",
    "    if tipo_bus == 1:\n",
    "        costo_por_km = 2\n",
    "        capacidad_maxima = 20\n",
    "    elif tipo_bus == 2:\n",
    "        costo_por_km = 2.5\n",
    "        capacidad_maxima = 25\n",
    "    elif tipo_bus == 3:\n",
    "        costo_por_km = 3\n",
    "        capacidad_maxima = 30\n",
    "    else:\n",
    "        print(\"Tipo de bus inválido\")\n",
    "        return\n",
    "\n",
    "    if cantidad_personas > capacidad_maxima:\n",
    "        print(\"Cantidad no permitida\")\n",
    "        return\n",
    "\n",
    "    costo_total = costo_por_km * distancia * cantidad_personas\n",
    "    costo_por_persona = costo_total / cantidad_personas\n",
    "\n",
    "    print(\"Costo del pasaje por persona:\", costo_por_persona)\n",
    "    print(\"Costo total del viaje:\", costo_total)\n",
    "\n",
    "\n",
    "# Ejemplo de uso\n",
    "tipo_de_bus = int(input(\"Ingrese el tipo de bus (1, 2 o 3): \"))\n",
    "distancia = float(input(\"Ingrese la distancia en kilómetros: \"))\n",
    "cantidad_personas = int(input(\"Ingrese la cantidad de personas: \"))\n",
    "\n",
    "calcular_costo_viaje(tipo_de_bus, distancia, cantidad_personas)"
   ]
  },
  {
   "cell_type": "code",
   "execution_count": 2,
   "id": "3220438f",
   "metadata": {},
   "outputs": [
    {
     "name": "stdout",
     "output_type": "stream",
     "text": [
      "Ingrese el tipo de bus (1, 2 o 3): 3\n",
      "Ingrese la distancia en kilómetros: 15\n",
      "Ingrese la cantidad de personas: 31\n",
      "Cantidad no permitida\n"
     ]
    }
   ],
   "source": [
    "def calcular_costo_viaje(tipo_bus, distancia, cantidad_personas):\n",
    "    if tipo_bus == 1:\n",
    "        costo_por_km = 2\n",
    "        capacidad_maxima = 20\n",
    "    elif tipo_bus == 2:\n",
    "        costo_por_km = 2.5\n",
    "        capacidad_maxima = 25\n",
    "    elif tipo_bus == 3:\n",
    "        costo_por_km = 3\n",
    "        capacidad_maxima = 30\n",
    "    else:\n",
    "        print(\"Tipo de bus inválido\")\n",
    "        return\n",
    "\n",
    "    if cantidad_personas > capacidad_maxima:\n",
    "        print(\"Cantidad no permitida\")\n",
    "        return\n",
    "\n",
    "    costo_total = costo_por_km * distancia * cantidad_personas\n",
    "    costo_por_persona = costo_total / cantidad_personas\n",
    "\n",
    "    print(\"Costo del pasaje por persona:\", costo_por_persona)\n",
    "    print(\"Costo total del viaje:\", costo_total)\n",
    "\n",
    "\n",
    "# Ejemplo de uso\n",
    "tipo_de_bus = int(input(\"Ingrese el tipo de bus (1, 2 o 3): \"))\n",
    "distancia = float(input(\"Ingrese la distancia en kilómetros: \"))\n",
    "cantidad_personas = int(input(\"Ingrese la cantidad de personas: \"))\n",
    "\n",
    "calcular_costo_viaje(tipo_de_bus, distancia, cantidad_personas)"
   ]
  },
  {
   "cell_type": "code",
   "execution_count": null,
   "id": "f26ec7db",
   "metadata": {},
   "outputs": [],
   "source": []
  }
 ],
 "metadata": {
  "kernelspec": {
   "display_name": "Python 3 (ipykernel)",
   "language": "python",
   "name": "python3"
  },
  "language_info": {
   "codemirror_mode": {
    "name": "ipython",
    "version": 3
   },
   "file_extension": ".py",
   "mimetype": "text/x-python",
   "name": "python",
   "nbconvert_exporter": "python",
   "pygments_lexer": "ipython3",
   "version": "3.9.12"
  }
 },
 "nbformat": 4,
 "nbformat_minor": 5
}
