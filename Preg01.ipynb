{
 "cells": [
  {
   "cell_type": "code",
   "execution_count": 6,
   "id": "d07b3fad",
   "metadata": {},
   "outputs": [
    {
     "name": "stdout",
     "output_type": "stream",
     "text": [
      "Ingrese el número de horas de estacionamiento: 2\n",
      "Importe a pagar: 6\n"
     ]
    }
   ],
   "source": [
    "def calcular_importe_estacionamiento(num_horas):\n",
    "    costo_base = 6\n",
    "    horas_adicionales = max(0, num_horas - 4)  # Se calculan las horas adicionales, si las hay\n",
    "    costo_adicional = horas_adicionales * 2\n",
    "    importe_total = costo_base + costo_adicional\n",
    "\n",
    "    print(\"Importe a pagar:\", importe_total)\n",
    "\n",
    "\n",
    "# Ejemplo de uso\n",
    "numero_horas = int(input(\"Ingrese el número de horas de estacionamiento: \"))\n",
    "\n",
    "calcular_importe_estacionamiento(numero_horas)\n"
   ]
  },
  {
   "cell_type": "code",
   "execution_count": null,
   "id": "c8c6f1da",
   "metadata": {},
   "outputs": [],
   "source": []
  }
 ],
 "metadata": {
  "kernelspec": {
   "display_name": "Python 3 (ipykernel)",
   "language": "python",
   "name": "python3"
  },
  "language_info": {
   "codemirror_mode": {
    "name": "ipython",
    "version": 3
   },
   "file_extension": ".py",
   "mimetype": "text/x-python",
   "name": "python",
   "nbconvert_exporter": "python",
   "pygments_lexer": "ipython3",
   "version": "3.9.12"
  }
 },
 "nbformat": 4,
 "nbformat_minor": 5
}
