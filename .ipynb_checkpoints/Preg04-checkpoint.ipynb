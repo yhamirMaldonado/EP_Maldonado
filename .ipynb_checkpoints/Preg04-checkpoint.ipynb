{
 "cells": [
  {
   "cell_type": "code",
   "execution_count": 1,
   "id": "e9e883be",
   "metadata": {},
   "outputs": [
    {
     "name": "stdout",
     "output_type": "stream",
     "text": [
      "Ingrese su ganancia: 1000\n",
      "El porcentaje correspondiente a la ganancia 1000.0 es: 50.0\n"
     ]
    }
   ],
   "source": [
    "def calcular_porcentaje(numero):\n",
    "    if numero <= 1000:\n",
    "        porcentaje = numero * 0.05\n",
    "    elif numero <= 1500:\n",
    "        porcentaje = numero * 0.07\n",
    "    elif numero <= 2000:\n",
    "        porcentaje = numero * 0.08\n",
    "    elif numero <= 5000:\n",
    "        porcentaje = numero * 0.10\n",
    "    else:\n",
    "        porcentaje = numero * 0.15\n",
    "    \n",
    "    return porcentaje\n",
    "\n",
    "# Solicitar al usuario un número\n",
    "numero = float(input(\"Ingrese su ganancia: \"))\n",
    "\n",
    "# Calcular el porcentaje\n",
    "resultado = calcular_porcentaje(numero)\n",
    "print(f\"El porcentaje correspondiente a la ganancia {numero} es: {resultado}\")\n"
   ]
  },
  {
   "cell_type": "code",
   "execution_count": null,
   "id": "43aaba8e",
   "metadata": {},
   "outputs": [],
   "source": []
  }
 ],
 "metadata": {
  "kernelspec": {
   "display_name": "Python 3 (ipykernel)",
   "language": "python",
   "name": "python3"
  },
  "language_info": {
   "codemirror_mode": {
    "name": "ipython",
    "version": 3
   },
   "file_extension": ".py",
   "mimetype": "text/x-python",
   "name": "python",
   "nbconvert_exporter": "python",
   "pygments_lexer": "ipython3",
   "version": "3.9.12"
  }
 },
 "nbformat": 4,
 "nbformat_minor": 5
}
