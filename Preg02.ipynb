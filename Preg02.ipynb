{
 "cells": [
  {
   "cell_type": "code",
   "execution_count": null,
   "id": "b370bfe4",
   "metadata": {},
   "outputs": [],
   "source": [
    "num1 = float(input(\"Ingrese el primer número: \"))\n",
    "num2 = float(input(\"Ingrese el segundo número: \"))\n",
    "num3 = float(input(\"Ingrese el tercer número: \"))\n",
    "\n",
    "# Inicializar las variables para el ordenamiento\n",
    "menor = num1\n",
    "medio = num2\n",
    "mayor = num3\n",
    "\n",
    "# Verificar el orden de los números\n",
    "if menor > medio:\n",
    "    menor, medio = medio, menor\n",
    "if medio > mayor:\n",
    "    medio, mayor = mayor, medio\n",
    "if menor > medio:\n",
    "    menor, medio = medio, menor\n",
    "\n",
    "print(\"Los números ordenados de menor a mayor son:\", menor, medio, mayor)"
   ]
  }
 ],
 "metadata": {
  "kernelspec": {
   "display_name": "Python 3 (ipykernel)",
   "language": "python",
   "name": "python3"
  },
  "language_info": {
   "codemirror_mode": {
    "name": "ipython",
    "version": 3
   },
   "file_extension": ".py",
   "mimetype": "text/x-python",
   "name": "python",
   "nbconvert_exporter": "python",
   "pygments_lexer": "ipython3",
   "version": "3.9.12"
  }
 },
 "nbformat": 4,
 "nbformat_minor": 5
}
